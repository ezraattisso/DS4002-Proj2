{
  "nbformat": 4,
  "nbformat_minor": 0,
  "metadata": {
    "colab": {
      "provenance": []
    },
    "kernelspec": {
      "name": "python3",
      "display_name": "Python 3"
    },
    "language_info": {
      "name": "python"
    }
  },
  "cells": [
    {
      "cell_type": "markdown",
      "source": [
        "Prophet Multi-Variable Forecasting. Datetime, y = Protests (frequency), and additional variable of SCOTUS cases."
      ],
      "metadata": {
        "id": "oqeJS-WlYwz9"
      }
    },
    {
      "cell_type": "code",
      "execution_count": null,
      "metadata": {
        "id": "3y0J86uVYe1Z"
      },
      "outputs": [],
      "source": [
        "import pandas as pd\n",
        "import numpy as np\n",
        "import matplotlib.pyplot as plt\n",
        "import seaborn as sns\n",
        "import matplotlib as plt\n",
        "from prophet import Prophet\n",
        "\n",
        "\n",
        "%matplotlib inline\n",
        "\n",
        "\n",
        "protest_df = pd.read_excel(\"/protest_data_ccc_2017_2023.xlsx\")\n",
        "\n",
        "protest_df.head()\n",
        "\n",
        "protest_df = protest_df[[\"date\", \"locality\", \"state\", \"online\", \"type\", \"claims\", \"issue_tags_summary\", \"issue_tags\", \"valence\", \"issues\", \"size_mean\", \"size_cat\"]]\n"
      ]
    },
    {
      "cell_type": "code",
      "source": [
        "## creating df of focus here..\n",
        "\n",
        "protest_df_refined = protest_df[[\"date\", \"locality\", \"state\", \"online\", \"type\", \"claims\", \"issue_tags_summary\", \"issue_tags\", \"valence\", \"issues\", \"size_mean\", \"size_cat\"]]\n",
        "\n",
        "\n",
        "protest_df_refined[\"date\"] = pd.to_datetime(protest_df_refined[\"date\"])\n",
        "protest_df_refined.head()"
      ],
      "metadata": {
        "id": "5AK6BS0_VtMK"
      },
      "execution_count": null,
      "outputs": []
    },
    {
      "cell_type": "code",
      "source": [
        "## SCOTUS df here.\n",
        "\n",
        "SCOTUS_df = pd.read_excel(\"/supremecourt.xlsx\")"
      ],
      "metadata": {
        "id": "4_OrbfWLWbey"
      },
      "execution_count": null,
      "outputs": []
    },
    {
      "cell_type": "code",
      "source": [
        "SCOTUS_df_refined = SCOTUS_df[[\"caseId\", \"docketId\", \"caseIssuesId\", \"voteId\", \"dateDecision\", \"caseName\", \"issue\", \"issueArea\"]]\n",
        "\n",
        "\n",
        "\n",
        "SCOTUS_df_refined[\"dateDecision\"] = pd.to_datetime(SCOTUS_df_refined[\"dateDecision\"])\n",
        "SCOTUS_df_refined.head()"
      ],
      "metadata": {
        "id": "zcghPx1jXx7_"
      },
      "execution_count": null,
      "outputs": []
    },
    {
      "cell_type": "code",
      "source": [
        "## Prophet\n",
        "\n",
        "# Set the start and end dates\n",
        "start_date = '2017-01-01'\n",
        "end_date = '2023-12-31'\n",
        "\n",
        "# Create the date range with a frequency of two weeks\n",
        "date_range = pd.date_range(start=start_date, end=end_date, freq='2W')\n",
        "\n",
        "# Create the DataFrame\n",
        "df_dates = pd.DataFrame(date_range, columns=['Date'])\n",
        "\n",
        "df_dates['protests'] = np.nan\n",
        "df_dates['scotus'] = np.nan\n",
        "\n",
        "# Print the DataFrame\n",
        "print(df_dates)\n"
      ],
      "metadata": {
        "id": "NyaiEZVcYUzr"
      },
      "execution_count": null,
      "outputs": []
    },
    {
      "cell_type": "code",
      "source": [
        "## initiating the 2 week jumps here.\n",
        "\n",
        "for df_date in df_dates['Date']:\n",
        "  next_df_date = df_dates[\"Date\"][0]+pd.Timedelta(days=14)\n"
      ],
      "metadata": {
        "id": "b2sMQF28cInR"
      },
      "execution_count": null,
      "outputs": []
    },
    {
      "cell_type": "code",
      "source": [
        "SCOTUS_df_refined[\"dateDecision\"]\n",
        "\n",
        "protest_df_refined[\"date\"]"
      ],
      "metadata": {
        "id": "QM5S3xxkePt5",
        "outputId": "330d8e67-a023-4773-ba80-b443d26fdd58",
        "colab": {
          "base_uri": "https://localhost:8080/",
          "height": 453
        }
      },
      "execution_count": 53,
      "outputs": [
        {
          "output_type": "execute_result",
          "data": {
            "text/plain": [
              "0        2017-01-01\n",
              "1        2017-01-01\n",
              "2        2017-01-01\n",
              "3        2017-01-01\n",
              "4        2017-01-01\n",
              "            ...    \n",
              "211999   2024-12-31\n",
              "212000   2024-12-31\n",
              "212001   2024-12-31\n",
              "212002   2024-12-31\n",
              "212003   2024-12-31\n",
              "Name: date, Length: 212004, dtype: datetime64[ns]"
            ],
            "text/html": [
              "<div>\n",
              "<style scoped>\n",
              "    .dataframe tbody tr th:only-of-type {\n",
              "        vertical-align: middle;\n",
              "    }\n",
              "\n",
              "    .dataframe tbody tr th {\n",
              "        vertical-align: top;\n",
              "    }\n",
              "\n",
              "    .dataframe thead th {\n",
              "        text-align: right;\n",
              "    }\n",
              "</style>\n",
              "<table border=\"1\" class=\"dataframe\">\n",
              "  <thead>\n",
              "    <tr style=\"text-align: right;\">\n",
              "      <th></th>\n",
              "      <th>date</th>\n",
              "    </tr>\n",
              "  </thead>\n",
              "  <tbody>\n",
              "    <tr>\n",
              "      <th>0</th>\n",
              "      <td>2017-01-01</td>\n",
              "    </tr>\n",
              "    <tr>\n",
              "      <th>1</th>\n",
              "      <td>2017-01-01</td>\n",
              "    </tr>\n",
              "    <tr>\n",
              "      <th>2</th>\n",
              "      <td>2017-01-01</td>\n",
              "    </tr>\n",
              "    <tr>\n",
              "      <th>3</th>\n",
              "      <td>2017-01-01</td>\n",
              "    </tr>\n",
              "    <tr>\n",
              "      <th>4</th>\n",
              "      <td>2017-01-01</td>\n",
              "    </tr>\n",
              "    <tr>\n",
              "      <th>...</th>\n",
              "      <td>...</td>\n",
              "    </tr>\n",
              "    <tr>\n",
              "      <th>211999</th>\n",
              "      <td>2024-12-31</td>\n",
              "    </tr>\n",
              "    <tr>\n",
              "      <th>212000</th>\n",
              "      <td>2024-12-31</td>\n",
              "    </tr>\n",
              "    <tr>\n",
              "      <th>212001</th>\n",
              "      <td>2024-12-31</td>\n",
              "    </tr>\n",
              "    <tr>\n",
              "      <th>212002</th>\n",
              "      <td>2024-12-31</td>\n",
              "    </tr>\n",
              "    <tr>\n",
              "      <th>212003</th>\n",
              "      <td>2024-12-31</td>\n",
              "    </tr>\n",
              "  </tbody>\n",
              "</table>\n",
              "<p>212004 rows × 1 columns</p>\n",
              "</div><br><label><b>dtype:</b> datetime64[ns]</label>"
            ]
          },
          "metadata": {},
          "execution_count": 53
        }
      ]
    }
  ]
}
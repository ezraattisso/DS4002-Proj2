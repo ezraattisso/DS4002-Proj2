{
  "nbformat": 4,
  "nbformat_minor": 0,
  "metadata": {
    "colab": {
      "provenance": []
    },
    "kernelspec": {
      "name": "python3",
      "display_name": "Python 3"
    },
    "language_info": {
      "name": "python"
    }
  },
  "cells": [
    {
      "cell_type": "markdown",
      "source": [
        "Prophet Multi-Variable Forecasting. Datetime, y = Protests (frequency), and additional variable of SCOTUS cases."
      ],
      "metadata": {
        "id": "oqeJS-WlYwz9"
      }
    },
    {
      "cell_type": "code",
      "execution_count": null,
      "metadata": {
        "id": "3y0J86uVYe1Z"
      },
      "outputs": [],
      "source": []
    }
  ]
}